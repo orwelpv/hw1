{
  "nbformat": 4,
  "nbformat_minor": 0,
  "metadata": {
    "colab": {
      "provenance": []
    },
    "kernelspec": {
      "name": "python3",
      "display_name": "Python 3"
    },
    "language_info": {
      "name": "python"
    }
  },
  "cells": [
    {
      "cell_type": "code",
      "execution_count": null,
      "metadata": {
        "colab": {
          "base_uri": "https://localhost:8080/"
        },
        "id": "jJbZxpKUjgxg",
        "outputId": "e18d3956-25fe-48ab-df8f-92aa61fcc62d"
      },
      "outputs": [
        {
          "output_type": "stream",
          "name": "stdout",
          "text": [
            "Archive:  hw1.zip\n",
            "   creating: hw1/\n",
            "   creating: hw1/task1/\n",
            " extracting: hw1/task1/md5_answer    \n",
            " extracting: hw1/task1/sha256_answer  \n",
            " extracting: hw1/task1/faster        \n",
            " extracting: hw1/GTID                \n",
            "   creating: hw1/task3/\n",
            "   creating: hw1/task2/\n",
            "   creating: hw1/task2/part2/\n",
            " extracting: hw1/task2/part2/f2_cbc.enc  \n",
            " extracting: hw1/task2/part2/plain_cbc.enc  \n",
            "  inflating: hw1/task2/part2/plain_ecb.enc  \n",
            "  inflating: hw1/task2/part2/f1_ecb.enc  \n",
            "  inflating: hw1/task2/part2/plain.txt  \n",
            "   creating: hw1/task2/part1/\n",
            " extracting: hw1/task2/part1/part1.enc  \n"
          ]
        }
      ],
      "source": [
        "!unzip hw1.zip"
      ]
    },
    {
      "cell_type": "markdown",
      "source": [
        "TASK 1:"
      ],
      "metadata": {
        "id": "7xZM4ix_xD57"
      }
    },
    {
      "cell_type": "code",
      "source": [
        "!echo \"123456789\" > hw1/GTID"
      ],
      "metadata": {
        "colab": {
          "base_uri": "https://localhost:8080/"
        },
        "id": "BJ2tGnDpmWYE",
        "outputId": "e947e58d-073e-45b0-be7a-8235049b810e"
      },
      "execution_count": null,
      "outputs": [
        {
          "output_type": "stream",
          "name": "stdout",
          "text": [
            "123456789\n"
          ]
        }
      ]
    },
    {
      "cell_type": "code",
      "source": [
        "!cat hw1/GTID"
      ],
      "metadata": {
        "id": "dwMX2qSam0R8"
      },
      "execution_count": null,
      "outputs": []
    },
    {
      "cell_type": "code",
      "source": [
        "import hashlib\n",
        "\n",
        "md5_hash = 'd37eb50d868361ea729bb4147eb3c1d8'\n",
        "for i in range(10000):  # Loop through all 4-digit numbers (0000 to 9999)\n",
        "    value = f\"{i:04}\"  # Format the number as a 4-digit string with leading zeros\n",
        "    hash_value = hashlib.md5(value.encode()).hexdigest()\n",
        "    if hash_value == md5_hash:\n",
        "        print(f\"MD5 Pre-image: {value}\")\n",
        "        break\n"
      ],
      "metadata": {
        "colab": {
          "base_uri": "https://localhost:8080/"
        },
        "id": "AFPZBcoqnqIx",
        "outputId": "0636fb54-9251-4c10-e896-bfd36b1b3152"
      },
      "execution_count": null,
      "outputs": [
        {
          "output_type": "stream",
          "name": "stdout",
          "text": [
            "MD5 Pre-image: 6612\n"
          ]
        }
      ]
    },
    {
      "cell_type": "code",
      "source": [
        "import hashlib\n",
        "\n",
        "sha256_hash = '305800b71062b49b350208327a02ec378199b4cf35e60eeb971611bef4928394'\n",
        "for i in range(10000):  # Loop through all 4-digit numbers (0000 to 9999)\n",
        "    value = f\"{i:04}\"  # Format the number as a 4-digit string with leading zeros\n",
        "    hash_value = hashlib.sha256(value.encode()).hexdigest()\n",
        "    if hash_value == sha256_hash:\n",
        "        print(f\"SHA256 Pre-image: {value}\")\n",
        "        break\n"
      ],
      "metadata": {
        "colab": {
          "base_uri": "https://localhost:8080/"
        },
        "id": "mHZfSb9HpckC",
        "outputId": "01e8c004-6eac-4c95-f2b9-c5c1af68f654"
      },
      "execution_count": null,
      "outputs": [
        {
          "output_type": "stream",
          "name": "stdout",
          "text": [
            "SHA256 Pre-image: 2626\n"
          ]
        }
      ]
    },
    {
      "cell_type": "code",
      "source": [
        "!echo \" 6612 \" > hw1/task1/md5_answer\n",
        "!echo \" 2626 \" > hw1/task1/sha256_answer"
      ],
      "metadata": {
        "id": "xpFlsBuTrD4t"
      },
      "execution_count": null,
      "outputs": []
    },
    {
      "cell_type": "code",
      "source": [
        "!cat hw1/task1/md5_answer\n",
        "!cat hw1/task1/sha256_answer"
      ],
      "metadata": {
        "colab": {
          "base_uri": "https://localhost:8080/"
        },
        "id": "IaEZiMBdrPZn",
        "outputId": "5f73bfae-1865-490c-bce4-a366a3da65b0"
      },
      "execution_count": null,
      "outputs": [
        {
          "output_type": "stream",
          "name": "stdout",
          "text": [
            " 6612 \n",
            " 2626 \n"
          ]
        }
      ]
    },
    {
      "cell_type": "code",
      "source": [
        "import hashlib\n",
        "import timeit\n",
        "import random\n",
        "import string\n",
        "import os\n",
        "\n",
        "# Function to generate a long random string\n",
        "def generate_long_random_string(length):\n",
        "    return ''.join(random.choice(string.ascii_letters + string.digits) for _ in range(length))\n",
        "\n",
        "# Length of the random string to be generated\n",
        "string_length = 1000000  # 1 million characters\n",
        "\n",
        "# Generate a long random string\n",
        "random_string = generate_long_random_string(string_length)\n",
        "\n",
        "# Measure the time taken for MD5 hashing\n",
        "md5_time = timeit.timeit(lambda: hashlib.md5(random_string.encode()).hexdigest(), number=10)\n",
        "print(f\"MD5 Hashing Time: {md5_time:.4f} seconds\")\n",
        "\n",
        "# Measure the time taken for SHA-256 hashing\n",
        "sha256_time = timeit.timeit(lambda: hashlib.sha256(random_string.encode()).hexdigest(), number=10)\n",
        "print(f\"SHA-256 Hashing Time: {sha256_time:.4f} seconds\")\n",
        "\n",
        "if md5_time < sha256_time:\n",
        "  os.system('echo \"md5\" > hw1/task1/faster')\n",
        "\n",
        "else:\n",
        "    os.system('echo \"sha256\" > hw1/task1/faster')"
      ],
      "metadata": {
        "colab": {
          "base_uri": "https://localhost:8080/"
        },
        "id": "Jj6oq1zua4vm",
        "outputId": "87dbd98f-deca-4e43-d439-13e81b86b46d"
      },
      "execution_count": null,
      "outputs": [
        {
          "output_type": "stream",
          "name": "stdout",
          "text": [
            "MD5 Hashing Time: 0.0201 seconds\n",
            "SHA-256 Hashing Time: 0.0309 seconds\n"
          ]
        }
      ]
    },
    {
      "cell_type": "code",
      "source": [
        "!cat hw1/task1/faster"
      ],
      "metadata": {
        "colab": {
          "base_uri": "https://localhost:8080/"
        },
        "id": "Q2fb0TfdhwJH",
        "outputId": "f86e259d-1e6e-45c9-e9b4-a262e6ffd1ed"
      },
      "execution_count": null,
      "outputs": [
        {
          "output_type": "stream",
          "name": "stdout",
          "text": [
            "md5\n"
          ]
        }
      ]
    },
    {
      "cell_type": "markdown",
      "source": [
        "Task 2 Part 1"
      ],
      "metadata": {
        "id": "8RsrWDrUY4pt"
      }
    },
    {
      "cell_type": "code",
      "source": [
        "!openssl enc -d -aes-256-ofb -K 0 -iv 0 -in hw1/task2/part1/part1.enc -out hw1/task2/part1/part1.txt"
      ],
      "metadata": {
        "colab": {
          "base_uri": "https://localhost:8080/"
        },
        "id": "AqFHz7qZsW7q",
        "outputId": "ffc9c071-fe07-41a4-a59d-bfcfe377f0f3"
      },
      "execution_count": null,
      "outputs": [
        {
          "output_type": "stream",
          "name": "stdout",
          "text": [
            "hex string is too short, padding with zero bytes to length\n",
            "hex string is too short, padding with zero bytes to length\n"
          ]
        }
      ]
    },
    {
      "cell_type": "code",
      "source": [
        "!cat hw1/task2/part1/part1.txt"
      ],
      "metadata": {
        "id": "5ZRh4iFktkh7",
        "colab": {
          "base_uri": "https://localhost:8080/"
        },
        "outputId": "36cf4fd5-a5aa-4cfd-91a5-5ddb6d8aa616"
      },
      "execution_count": null,
      "outputs": [
        {
          "output_type": "stream",
          "name": "stdout",
          "text": [
            "You've Cracked The Code!\n"
          ]
        }
      ]
    },
    {
      "cell_type": "markdown",
      "source": [
        "TASK2 Part 2\n",
        "\n",
        "Display the content in plain.txt"
      ],
      "metadata": {
        "id": "yYVHoPJKvUJB"
      }
    },
    {
      "cell_type": "code",
      "source": [
        "!cat hw1/task2/part2/plain.txt"
      ],
      "metadata": {
        "colab": {
          "base_uri": "https://localhost:8080/"
        },
        "id": "trQJWHAXjlXd",
        "outputId": "52466685-b997-469e-831c-8983a31ed886"
      },
      "execution_count": null,
      "outputs": [
        {
          "output_type": "stream",
          "name": "stdout",
          "text": [
            "SecureAllZeNets\n",
            "WhoIzTurtleTank\n",
            "SecureAllZeNets\n",
            "NotGonnaGuessMe\n"
          ]
        }
      ]
    },
    {
      "cell_type": "markdown",
      "source": [
        "This code takes your original plaintext, splits it into 128-bit blocks, and then prints each block along with the same text."
      ],
      "metadata": {
        "id": "CGDHtnxa23_G"
      }
    },
    {
      "cell_type": "code",
      "source": [
        "plaintext = \"\"\"SecureAllZeNets\n",
        "WhoIzTurtleTank\n",
        "SecureAllZeNets\n",
        "NotGonnaGuessMe\"\"\"\n",
        "\n",
        "# Split the plaintext into 128-bit blocks\n",
        "block_size = 16\n",
        "blocks = [plaintext[i:i+block_size] for i in range(0, len(plaintext), block_size)]\n",
        "\n",
        "# Print each block along with the same text\n",
        "for i, block in enumerate(blocks):\n",
        "    print(f\"Plain Block {i:02d} ({len(block)} bytes): {block}\")\n"
      ],
      "metadata": {
        "colab": {
          "base_uri": "https://localhost:8080/"
        },
        "id": "_qvGMCxk2KlF",
        "outputId": "dcdd53ae-7ab3-4a6c-cec6-bc166e7b3e42"
      },
      "execution_count": null,
      "outputs": [
        {
          "output_type": "stream",
          "name": "stdout",
          "text": [
            "Plain Block 00 (16 bytes): SecureAllZeNets\n",
            "\n",
            "Plain Block 01 (16 bytes): WhoIzTurtleTank\n",
            "\n",
            "Plain Block 02 (16 bytes): SecureAllZeNets\n",
            "\n",
            "Plain Block 03 (15 bytes): NotGonnaGuessMe\n"
          ]
        }
      ]
    },
    {
      "cell_type": "markdown",
      "source": [
        "Now Examine Encrypted Files:\n",
        "Start by examining the contents of the encrypted files 'f1_ecb.enc', 'f2_cbc.enc', 'plain_ecb.enc' and 'plain_cbc.enc' using a hexdump tool."
      ],
      "metadata": {
        "id": "zlOH9pe3vejE"
      }
    },
    {
      "cell_type": "code",
      "source": [
        "#!xxd -g 1 hw1/task2/part2/plain_ecb.enc\n",
        "f = open(\"hw1/task2/part2/plain_ecb.enc\", \"rb\")\n",
        "plaintext = f.read()\n",
        "\n",
        "# Split the plaintext into 128-bit blocks\n",
        "block_size = 16\n",
        "blocks = [plaintext[i:i+block_size] for i in range(0, len(plaintext), block_size)]\n",
        "\n",
        "# Print each block along with the same text\n",
        "for i, block in enumerate(blocks):\n",
        "    print(f\"Plain ECB Block {i:02d} ({len(block)} bytes): {block}\")\n",
        "\n",
        "\n"
      ],
      "metadata": {
        "id": "MriqqSQFj5o3",
        "colab": {
          "base_uri": "https://localhost:8080/"
        },
        "outputId": "751ad193-66d3-4947-943e-6b453f81f0c2"
      },
      "execution_count": null,
      "outputs": [
        {
          "output_type": "stream",
          "name": "stdout",
          "text": [
            "Plain ECB Block 00 (16 bytes): b'\\x1c5%\\xe6`x4\\xed<\\xb52\\xea\\t\\xaf\\xa1S'\n",
            "Plain ECB Block 01 (16 bytes): b'\\x991\\xeb 0m\\xa4uGT4\\x16\\xa8m\\xc2\\r'\n",
            "Plain ECB Block 02 (16 bytes): b'\\x1c5%\\xe6`x4\\xed<\\xb52\\xea\\t\\xaf\\xa1S'\n",
            "Plain ECB Block 03 (16 bytes): b'\\xfa\\x19%4\\xd1\\xda\\xe2\\xd7Ng*>^\\x90\\xf9^'\n"
          ]
        }
      ]
    },
    {
      "cell_type": "code",
      "source": [
        "#!xxd -g 1 hw1/task2/part2/f1_ecb.enc\n",
        "f = open(\"hw1/task2/part2/f1_ecb.enc\", \"rb\")\n",
        "plaintext = f.read()\n",
        "\n",
        "# Split the plaintext into 128-bit blocks\n",
        "block_size = 16\n",
        "blocks = [plaintext[i:i+block_size] for i in range(0, len(plaintext), block_size)]\n",
        "\n",
        "# Print each block along with the same text\n",
        "for i, block in enumerate(blocks):\n",
        "    print(f\"F1 ECB Block {i:02d} ({len(block)} bytes): {block}\")\n",
        "\n"
      ],
      "metadata": {
        "colab": {
          "base_uri": "https://localhost:8080/"
        },
        "id": "jJE8H-kIv4hK",
        "outputId": "7fa2721f-da2a-4cf1-cb66-67421da366f3"
      },
      "execution_count": null,
      "outputs": [
        {
          "output_type": "stream",
          "name": "stdout",
          "text": [
            "F1 ECB Block 00 (16 bytes): b'\\x991\\xeb 0m\\xa4uGT4\\x16\\xa8m\\xc2\\r'\n",
            "F1 ECB Block 01 (16 bytes): b'\\x1c5%\\xe6`x4\\xed<\\xb52\\xea\\t\\xaf\\xa1S'\n",
            "F1 ECB Block 02 (16 bytes): b'\\x1c5%\\xe6`x4\\xed<\\xb52\\xea\\t\\xaf\\xa1S'\n",
            "F1 ECB Block 03 (16 bytes): b'\\x991\\xeb 0m\\xa4uGT4\\x16\\xa8m\\xc2\\r'\n"
          ]
        }
      ]
    },
    {
      "cell_type": "markdown",
      "source": [
        "Analyze 'plain_ecb.enc' and 'f1_ecb.enc' (AES-128 ECB Mode):\n",
        "\n",
        "Notice that Plain ECB block 00 = F1 ECB Block 01 = F1 ECB Block 02 which corresponds to \"SecureAllZeNets\" in plaintext.\" Also notice that Plain ECB block 01 = F1 ECB Block 00 = F1 ECB Block 03, which corresponds to \"WhoIzTurtleTank.\"\n",
        "\n",
        "Create 'f1.txt': Write the known content based on the analysis:\n",
        "\n",
        "WhoIzTurtleTank\n",
        "\n",
        "SecureAllZeNets\n",
        "\n",
        "SecureAllZeNets\n",
        "\n",
        "WhoIzTurtleTank"
      ],
      "metadata": {
        "id": "k2j-e62f64Tz"
      }
    },
    {
      "cell_type": "code",
      "source": [
        "!echo -e 'WhoIzTurtleTank\\nSecureAllZeNets\\nSecureAllZeNets\\nWhoIzTurtleTank' > hw1/task2/part2/f1.txt"
      ],
      "metadata": {
        "id": "MRKuGgnrUhWb"
      },
      "execution_count": null,
      "outputs": []
    },
    {
      "cell_type": "code",
      "source": [
        "!cat hw1/task2/part2/f1.txt"
      ],
      "metadata": {
        "colab": {
          "base_uri": "https://localhost:8080/"
        },
        "id": "nx6O72wWWVOK",
        "outputId": "4300b704-ff85-4139-961b-b9ab0ca9c58e"
      },
      "execution_count": null,
      "outputs": [
        {
          "output_type": "stream",
          "name": "stdout",
          "text": [
            "WhoIzTurtleTank\n",
            "SecureAllZeNets\n",
            "SecureAllZeNets\n",
            "WhoIzTurtleTank\n"
          ]
        }
      ]
    },
    {
      "cell_type": "code",
      "source": [
        "#!cat hw1/task2/part2/plain.txt\n",
        "\n",
        "plaintext = \"\"\"SecureAllZeNets\n",
        "WhoIzTurtleTank\n",
        "SecureAllZeNets\n",
        "NotGonnaGuessMe\"\"\"\n",
        "\n",
        "# Split the plaintext into 128-bit blocks\n",
        "block_size = 16\n",
        "blocks = [plaintext[i:i+block_size] for i in range(0, len(plaintext), block_size)]\n",
        "\n",
        "# Print each block along with the same text\n",
        "for i, block in enumerate(blocks):\n",
        "    print(f\"Plain Block {i:02d} ({len(block)} bytes): {block}\")"
      ],
      "metadata": {
        "colab": {
          "base_uri": "https://localhost:8080/"
        },
        "id": "7VymECtCzDY3",
        "outputId": "309b2b31-ae14-4e7d-de04-2dd14caa6b99"
      },
      "execution_count": null,
      "outputs": [
        {
          "output_type": "stream",
          "name": "stdout",
          "text": [
            "Plain Block 00 (16 bytes): SecureAllZeNets\n",
            "\n",
            "Plain Block 01 (16 bytes): WhoIzTurtleTank\n",
            "\n",
            "Plain Block 02 (16 bytes): SecureAllZeNets\n",
            "\n",
            "Plain Block 03 (15 bytes): NotGonnaGuessMe\n"
          ]
        }
      ]
    },
    {
      "cell_type": "code",
      "source": [
        "#!xxd -g 1 hw1/task2/part2/plain_cbc.enc\n",
        "\n",
        "f = open(\"hw1/task2/part2/plain_cbc.enc\", \"rb\")\n",
        "plaintext = f.read()\n",
        "\n",
        "# Split the plaintext into 128-bit blocks\n",
        "block_size = 16\n",
        "blocks = [plaintext[i:i+block_size] for i in range(0, len(plaintext), block_size)]\n",
        "\n",
        "# Print each block along with the same text\n",
        "for i, block in enumerate(blocks):\n",
        "    print(f\"Plain CBC Block {i:02d} ({len(block)} bytes): {block}\")"
      ],
      "metadata": {
        "colab": {
          "base_uri": "https://localhost:8080/"
        },
        "outputId": "35495c17-8c5c-4eb9-c531-33aab5c2ae7f",
        "id": "NknyQZqTzH0z"
      },
      "execution_count": null,
      "outputs": [
        {
          "output_type": "stream",
          "name": "stdout",
          "text": [
            "Plain CBC Block 00 (16 bytes): b'\\x1c5%\\xe6`x4\\xed<\\xb52\\xea\\t\\xaf\\xa1S'\n",
            "Plain CBC Block 01 (16 bytes): b\"\\x86\\xb1\\xc9\\xf0M\\x99\\x8bv]\\xcd\\xd0'\\xed\\xf97u\"\n",
            "Plain CBC Block 02 (16 bytes): b'\\x94mvYk\\xc5T_^\\x01\\x1e\\xdd\\xec0\\xde\\xc9'\n",
            "Plain CBC Block 03 (16 bytes): b'%\\xfc\\xcf\\x12N9\\xc7\\x04\\x1b\\xfe\\xe1\\xda\\xb5\\xa9\\x87m'\n"
          ]
        }
      ]
    },
    {
      "cell_type": "code",
      "source": [
        "#!xxd -g 1 hw1/task2/part2/f2_cbc.enc\n",
        "\n",
        "f = open(\"hw1/task2/part2/f2_cbc.enc\", \"rb\")\n",
        "plaintext = f.read()\n",
        "\n",
        "# Split the plaintext into 128-bit blocks\n",
        "block_size = 16\n",
        "blocks = [plaintext[i:i+block_size] for i in range(0, len(plaintext), block_size)]\n",
        "\n",
        "# Print each block along with the same text\n",
        "for i, block in enumerate(blocks):\n",
        "    print(f\"F2 CBC Block {i:02d} ({len(block)} bytes): {block}\")"
      ],
      "metadata": {
        "colab": {
          "base_uri": "https://localhost:8080/"
        },
        "id": "UckkwG8sv-cq",
        "outputId": "a0e790f1-d987-4992-d825-860fba5e1f4e"
      },
      "execution_count": null,
      "outputs": [
        {
          "output_type": "stream",
          "name": "stdout",
          "text": [
            "F2 CBC Block 00 (16 bytes): b'\\x1c5%\\xe6`x4\\xed<\\xb52\\xea\\t\\xaf\\xa1S'\n",
            "F2 CBC Block 01 (16 bytes): b\"\\x86\\xb1\\xc9\\xf0M\\x99\\x8bv]\\xcd\\xd0'\\xed\\xf97u\"\n",
            "F2 CBC Block 02 (16 bytes): b'\\xcdq\\x84{\\xa7s\\x1c\\xa1\\x9b\\xa7\\xdc#\"\\xf8\\x1bm'\n",
            "F2 CBC Block 03 (16 bytes): b'\\xd6\\xa9\\xa6\\xa8\\xb1So\\xb1\\xd6w\\xf8\\x93\\xc5\\x1c\\xef\\x83'\n"
          ]
        }
      ]
    },
    {
      "cell_type": "markdown",
      "source": [
        "Analyze 'plain_cbc.enc' and 'f2_cbc.enc' (AES-128 CBC Mode):\n",
        "Note that Plain CBC Block 00 = F2 CBC Block 00: \"SecureAllZeNets.\"\n",
        "Also, the second block is the same (Plain CBC Block 01 = F2 CBC Block 01): WhoIzTurtleTank.  This means that the first two blocks of f2.txt is the same as that of plain.txt.\n",
        "\n",
        "Create 'f2.txt':\n",
        "Write the known content based on the analysis:\n",
        "\n",
        "SecureAllZeNets\n",
        "\n",
        "WhoIzTurtleTank\n",
        "\n",
        "aaaaaaaaaaaaaaaaaaaaaaaaaaaaaaaa\n",
        "\n",
        "The 32 'a' characters at the end of the file are to indicate 32 characters of plaintext that we do not\n",
        "know, as instructed in the assignments. (Technically this will result in 33 characters as a newline character\n",
        "is inserted at the end of the file. Our autograder will account for this, and also accept 31 'a' characters as\n",
        "a last line.) Note that just from the ciphertext, you cannot assume that the unknown parts of f2.txt are\n",
        "two lines (i.e., that there is a newline character in there). We will give partial but not full credit if you listed\n",
        "two lines of 15 or 16 'a' characters.\n",
        "For those curious, the real f2.txt value was:\n",
        "\n",
        "SecureAllZeNets\n",
        "\n",
        "WhoIzTurtleTank\n",
        "\n",
        "hellomyoldfrien\n",
        "\n",
        "NotGonnaGuessMe"
      ],
      "metadata": {
        "id": "65eBKGhgwQQF"
      }
    },
    {
      "cell_type": "code",
      "source": [
        "!echo -e 'SecureAllZeNets\\nWhoIzTurtleTank\\naaaaaaaaaaaaaaaaaaaaaaaaaaaaaaaa' > hw1/task2/part2/f2.txt"
      ],
      "metadata": {
        "id": "mSNvRka8Wyi6"
      },
      "execution_count": null,
      "outputs": []
    },
    {
      "cell_type": "code",
      "source": [
        "!cat hw1/task2/part2/f2.txt"
      ],
      "metadata": {
        "colab": {
          "base_uri": "https://localhost:8080/"
        },
        "id": "BG7cpaI9XBwJ",
        "outputId": "074018dc-fdc8-4d84-b62f-9829484764bf"
      },
      "execution_count": null,
      "outputs": [
        {
          "output_type": "stream",
          "name": "stdout",
          "text": [
            "SecureAllZeNets\n",
            "WhoIzTurtleTank\n",
            "aaaaaaaaaaaaaaaaaaaaaaaaaaaaaaaa\n"
          ]
        }
      ]
    },
    {
      "cell_type": "markdown",
      "source": [
        "TASK 3:"
      ],
      "metadata": {
        "id": "YG2ZvW1Pw5eG"
      }
    },
    {
      "cell_type": "code",
      "source": [
        "!openssl genrsa -out hw1/task3/private.pem 2048"
      ],
      "metadata": {
        "id": "DdjgUN7syrsb"
      },
      "execution_count": null,
      "outputs": []
    },
    {
      "cell_type": "code",
      "source": [
        "!openssl rsa -pubout -in hw1/task3/private.pem -out hw1/task3/public.pem"
      ],
      "metadata": {
        "colab": {
          "base_uri": "https://localhost:8080/"
        },
        "id": "EDwIffeXy0ME",
        "outputId": "1f9bd1d7-98f7-402b-efcc-b76ad4f1a02c"
      },
      "execution_count": null,
      "outputs": [
        {
          "output_type": "stream",
          "name": "stdout",
          "text": [
            "writing RSA key\n"
          ]
        }
      ]
    },
    {
      "cell_type": "code",
      "source": [
        "!openssl dgst -sha256 -sign hw1/task3/private.pem -out hw1/task3/GTID.sign hw1/GTID"
      ],
      "metadata": {
        "id": "qLwQRCRAy81G"
      },
      "execution_count": null,
      "outputs": []
    },
    {
      "cell_type": "code",
      "source": [
        "!openssl dgst -sha256 -verify hw1/task3/public.pem -signature hw1/task3/GTID.sign hw1/GTID"
      ],
      "metadata": {
        "colab": {
          "base_uri": "https://localhost:8080/"
        },
        "id": "RayobivgzELx",
        "outputId": "8c83a0e9-3d07-4e05-af03-80e357970502"
      },
      "execution_count": null,
      "outputs": [
        {
          "output_type": "stream",
          "name": "stdout",
          "text": [
            "Verified OK\n"
          ]
        }
      ]
    }
  ]
}